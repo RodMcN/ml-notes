{
 "cells": [
  {
   "cell_type": "markdown",
   "metadata": {},
   "source": [
    "# Principle Component Analysis"
   ]
  },
  {
   "cell_type": "code",
   "execution_count": 1,
   "metadata": {},
   "outputs": [],
   "source": [
    "import numpy as np\n",
    "import pandas as pd\n",
    "import matplotlib.pyplot as plt"
   ]
  },
  {
   "cell_type": "markdown",
   "metadata": {},
   "source": [
    "PCA is a statistical procedure for projecting a high dimensional dataset onto a lower dimensional space, while retaining as much of the charactersitics of the original data as possible. It has several uses: eg, dimensionality reduction, (lossy) data compression and data visualisation.\n",
    "\n",
    "PCA is just one of a family of dimensionality reduction techniques, but it is one of the oldest such procesdues and by far the most popular.\n",
    "\n",
    "The goal of PCA is to take a high-dimensional vector, and, using the dependencies between the variables, represent it in a more tractable, lower-dimensional form, while minimising the amount of information lost.\n",
    "\n",
    "The key concept behind PCA is the idea of projection ..."
   ]
  },
  {
   "cell_type": "code",
   "execution_count": 2,
   "metadata": {},
   "outputs": [
    {
     "data": {
      "text/plain": [
       "<matplotlib.collections.LineCollection at 0x18443b52948>"
      ]
     },
     "execution_count": 2,
     "metadata": {},
     "output_type": "execute_result"
    },
    {
     "data": {
      "image/png": "[encoded data removed]",
      "text/plain": [
       "<Figure size 432x288 with 1 Axes>"
      ]
     },
     "metadata": {
      "needs_background": "light"
     },
     "output_type": "display_data"
    }
   ],
   "source": [
    "data = np.random.multivariate_normal([0,0],[[2.67, 0.53], [0.53, 2.67]], 20)\n",
    "\n",
    "plt.scatter(data[:,0], data[:,1])\n",
    "plt.scatter(data[:,0], np.zeros_like(data[:,1]))\n",
    "plt.hlines(0, -3, 3)\n",
    "\n",
    "plt.vlines(data[:,0], np.minimum(data[:,1], 0), np.maximum(data[:,1], 0), linestyle=':')"
   ]
  },
  {
   "cell_type": "markdown",
   "metadata": {},
   "source": [
    "PCA works by first finding a dimensional vector along which the variance of the input vector is maximised. This is referred to as the first principle component. Further principle components are By projecting the orginal data onto this new component, we get a linear combination of all of the original features in a single dimension. Since this principle component was defined as the vector along which the variance of the original dataset was maximised, the projection onto the first principle component will be a linear combination of the orignal dimensions which maximises the variance of points along that line.\n",
    "\n",
    "The second principle component is chosen based on the same criterion (maximising variance) but it must be orthogonal to PC1. For n principle components, each is chosen to maximise the variance of the projected values while being orthogonal to all previous principle components."
   ]
  },
  {
   "cell_type": "markdown",
   "metadata": {},
   "source": [
    "## Wine and PCA\n",
    "\n",
    "\"These data are the results of a chemical analysis of wines grown in the same region in Italy but derived from three different cultivars. The analysis determined the quantities of 13 constituents found in each of the three types of wines.\""
   ]
  },
  {
   "cell_type": "code",
   "execution_count": 3,
   "metadata": {},
   "outputs": [
    {
     "data": {
      "text/html": [
       "<div>\n",
       "<style scoped>\n",
       "    .dataframe tbody tr th:only-of-type {\n",
       "        vertical-align: middle;\n",
       "    }\n",
       "\n",
       "    .dataframe tbody tr th {\n",
       "        vertical-align: top;\n",
       "    }\n",
       "\n",
       "    .dataframe thead th {\n",
       "        text-align: right;\n",
       "    }\n",
       "</style>\n",
       "<table border=\"1\" class=\"dataframe\">\n",
       "  <thead>\n",
       "    <tr style=\"text-align: right;\">\n",
       "      <th></th>\n",
       "      <th>Wine</th>\n",
       "      <th>Alcohol</th>\n",
       "      <th>Malic acid</th>\n",
       "      <th>Ash</th>\n",
       "      <th>Alcalinity of ash</th>\n",
       "      <th>Magnesium</th>\n",
       "      <th>Total phenols</th>\n",
       "      <th>Flavanoids</th>\n",
       "      <th>Nonflavanoid phenols</th>\n",
       "      <th>Proanthocyanins</th>\n",
       "      <th>Color intensity</th>\n",
       "      <th>Hue</th>\n",
       "      <th>OD280/OD315 of diluted wines</th>\n",
       "      <th>Proline</th>\n",
       "    </tr>\n",
       "  </thead>\n",
       "  <tbody>\n",
       "    <tr>\n",
       "      <th>0</th>\n",
       "      <td>1</td>\n",
       "      <td>14.23</td>\n",
       "      <td>1.71</td>\n",
       "      <td>2.43</td>\n",
       "      <td>15.6</td>\n",
       "      <td>127</td>\n",
       "      <td>2.80</td>\n",
       "      <td>3.06</td>\n",
       "      <td>0.28</td>\n",
       "      <td>2.29</td>\n",
       "      <td>5.64</td>\n",
       "      <td>1.04</td>\n",
       "      <td>3.92</td>\n",
       "      <td>1065</td>\n",
       "    </tr>\n",
       "    <tr>\n",
       "      <th>1</th>\n",
       "      <td>1</td>\n",
       "      <td>13.20</td>\n",
       "      <td>1.78</td>\n",
       "      <td>2.14</td>\n",
       "      <td>11.2</td>\n",
       "      <td>100</td>\n",
       "      <td>2.65</td>\n",
       "      <td>2.76</td>\n",
       "      <td>0.26</td>\n",
       "      <td>1.28</td>\n",
       "      <td>4.38</td>\n",
       "      <td>1.05</td>\n",
       "      <td>3.40</td>\n",
       "      <td>1050</td>\n",
       "    </tr>\n",
       "    <tr>\n",
       "      <th>2</th>\n",
       "      <td>1</td>\n",
       "      <td>13.16</td>\n",
       "      <td>2.36</td>\n",
       "      <td>2.67</td>\n",
       "      <td>18.6</td>\n",
       "      <td>101</td>\n",
       "      <td>2.80</td>\n",
       "      <td>3.24</td>\n",
       "      <td>0.30</td>\n",
       "      <td>2.81</td>\n",
       "      <td>5.68</td>\n",
       "      <td>1.03</td>\n",
       "      <td>3.17</td>\n",
       "      <td>1185</td>\n",
       "    </tr>\n",
       "    <tr>\n",
       "      <th>3</th>\n",
       "      <td>1</td>\n",
       "      <td>14.37</td>\n",
       "      <td>1.95</td>\n",
       "      <td>2.50</td>\n",
       "      <td>16.8</td>\n",
       "      <td>113</td>\n",
       "      <td>3.85</td>\n",
       "      <td>3.49</td>\n",
       "      <td>0.24</td>\n",
       "      <td>2.18</td>\n",
       "      <td>7.80</td>\n",
       "      <td>0.86</td>\n",
       "      <td>3.45</td>\n",
       "      <td>1480</td>\n",
       "    </tr>\n",
       "    <tr>\n",
       "      <th>4</th>\n",
       "      <td>1</td>\n",
       "      <td>13.24</td>\n",
       "      <td>2.59</td>\n",
       "      <td>2.87</td>\n",
       "      <td>21.0</td>\n",
       "      <td>118</td>\n",
       "      <td>2.80</td>\n",
       "      <td>2.69</td>\n",
       "      <td>0.39</td>\n",
       "      <td>1.82</td>\n",
       "      <td>4.32</td>\n",
       "      <td>1.04</td>\n",
       "      <td>2.93</td>\n",
       "      <td>735</td>\n",
       "    </tr>\n",
       "  </tbody>\n",
       "</table>\n",
       "</div>"
      ],
      "text/plain": [
       "   Wine  Alcohol  Malic acid   Ash  Alcalinity of ash  Magnesium  \\\n",
       "0     1    14.23        1.71  2.43               15.6        127   \n",
       "1     1    13.20        1.78  2.14               11.2        100   \n",
       "2     1    13.16        2.36  2.67               18.6        101   \n",
       "3     1    14.37        1.95  2.50               16.8        113   \n",
       "4     1    13.24        2.59  2.87               21.0        118   \n",
       "\n",
       "   Total phenols  Flavanoids  Nonflavanoid phenols  Proanthocyanins  \\\n",
       "0           2.80        3.06                  0.28             2.29   \n",
       "1           2.65        2.76                  0.26             1.28   \n",
       "2           2.80        3.24                  0.30             2.81   \n",
       "3           3.85        3.49                  0.24             2.18   \n",
       "4           2.80        2.69                  0.39             1.82   \n",
       "\n",
       "   Color intensity   Hue  OD280/OD315 of diluted wines  Proline  \n",
       "0             5.64  1.04                          3.92     1065  \n",
       "1             4.38  1.05                          3.40     1050  \n",
       "2             5.68  1.03                          3.17     1185  \n",
       "3             7.80  0.86                          3.45     1480  \n",
       "4             4.32  1.04                          2.93      735  "
      ]
     },
     "execution_count": 3,
     "metadata": {},
     "output_type": "execute_result"
    }
   ],
   "source": [
    "df = pd.read_csv(\"data/wine.csv\", index_col=0)\n",
    "df.head()"
   ]
  },
  {
   "cell_type": "code",
   "execution_count": 4,
   "metadata": {},
   "outputs": [],
   "source": [
    "data = df.values[:, 1:]"
   ]
  },
  {
   "cell_type": "markdown",
   "metadata": {},
   "source": [
    "Before performing PCA is is improtant to normalise the data since we are interested in maximising the variance across all features. If one component of the dataset has a greater magnitude than others, it will likely have a greater variance. Whether this is of relevance to the overall structure of the data or simply a byproduct of its magnitide is unclear.\n",
    "\n",
    "Variances should be calculated relative to each individual axis.\n",
    "\n",
    "Data can be normalised by subtracting the mean and dividing by the standard deviation along each individual dimension."
   ]
  },
  {
   "cell_type": "code",
   "execution_count": 5,
   "metadata": {},
   "outputs": [],
   "source": [
    "normalised_data = (data - np.mean(data, axis=0)) / np.std(data, axis=0)"
   ]
  },
  {
   "cell_type": "code",
   "execution_count": 6,
   "metadata": {},
   "outputs": [
    {
     "data": {
      "image/png": "[encoded data removed]",
      "text/plain": [
       "<Figure size 648x288 with 2 Axes>"
      ]
     },
     "metadata": {
      "needs_background": "light"
     },
     "output_type": "display_data"
    }
   ],
   "source": [
    "fig,ax = plt.subplots(1,2, figsize=(9,4))\n",
    "m = ax[0].bar(np.arange(13)-0.5, np.mean(data, axis=0), width=0.5, label='mean')\n",
    "s = ax[0].bar(np.arange(13), np.std(data, axis=0), width=0.5, label='std')\n",
    "ax[0].legend(handles=[m,s])\n",
    "ax[0].set_xticks(np.arange(13))\n",
    "ax[0].set_xticklabels(df.columns[1:])\n",
    "plt.setp(ax[0].xaxis.get_majorticklabels(), rotation=90)\n",
    "ax[0].set_title(\"mean and std before normalisation\")\n",
    "\n",
    "m = ax[1].bar(np.arange(13)-0.5, np.mean(normalised_data, axis=0), width=0.5, label='mean')\n",
    "s = ax[1].bar(np.arange(13), np.std(normalised_data, axis=0), width=0.5, label='std')\n",
    "ax[1].legend(handles=[m,s])\n",
    "ax[1].set_xticks(np.arange(13))\n",
    "ax[1].set_xticklabels(df.columns[1:])\n",
    "plt.setp(ax[1].xaxis.get_majorticklabels(), rotation=90)\n",
    "ax[1].set_title(\"mean and std after normalisation\")\n",
    "\n",
    "plt.show()"
   ]
  },
  {
   "cell_type": "markdown",
   "metadata": {},
   "source": [
    "Start by finding a projection into D = 1 dimension. In this case, the projection results in a scalar value, $x_n$, for each observation, given by $x_n=w^Ty_n$\n",
    "\n",
    "The variance $\\sigma^2$ is given by $\\frac{1}{N}\\sum^N_{n=1}(x_n-\\bar x)^2$\n",
    "\n",
    "\n",
    "Since the mean ($\\bar y$) $=0$, this becomes $\\frac{1}{N}\\sum^N_{n=1}x_n^2$\n",
    "\n"
   ]
  },
  {
   "cell_type": "markdown",
   "metadata": {},
   "source": [
    "Calculate the covariance matrix of the standardised data"
   ]
  },
  {
   "cell_type": "code",
   "execution_count": 7,
   "metadata": {},
   "outputs": [],
   "source": [
    "cov = np.cov(normalised_data, rowvar=False)"
   ]
  },
  {
   "cell_type": "code",
   "execution_count": 8,
   "metadata": {},
   "outputs": [
    {
     "data": {
      "text/plain": [
       "<matplotlib.colorbar.Colorbar at 0x1844304b848>"
      ]
     },
     "execution_count": 8,
     "metadata": {},
     "output_type": "execute_result"
    },
    {
     "data": {
      "image/png": "[encoded data removed]",
      "text/plain": [
       "<Figure size 432x288 with 2 Axes>"
      ]
     },
     "metadata": {
      "needs_background": "light"
     },
     "output_type": "display_data"
    }
   ],
   "source": [
    "fig, ax = plt.subplots(1)\n",
    "img = ax.imshow(cov)\n",
    "ax.set_xticks(np.arange(13))\n",
    "ax.set_yticks(np.arange(13))\n",
    "ax.set_yticklabels(df.columns[1:])\n",
    "ax.set_xticklabels(df.columns[1:], rotation='vertical')\n",
    "fig.colorbar(img)"
   ]
  },
  {
   "cell_type": "markdown",
   "metadata": {},
   "source": [
    "The covariance matrix gives an idea of which features are most correlated or most independent. The covariance matrix can be represented by an ellipse whose primary axes are the eigenvectors of the covariance matrix.\n",
    "\n",
    "These are the principal components of the dataset. Principle components can be computed from the covariance matrix by taking the eigendecomposition. Each eigenvector of the covariance matrix is a principal component and its importance is given by the square root of the absolute value of its corresponding eigenvalue."
   ]
  },
  {
   "cell_type": "code",
   "execution_count": 9,
   "metadata": {},
   "outputs": [
    {
     "data": {
      "text/plain": [
       "array([4.73243698, 2.51108093, 1.45424187, 0.92416587, 0.85804868,\n",
       "       0.64528221, 0.55414147, 0.10396199, 0.35046627, 0.16972374,\n",
       "       0.29051203, 0.22706428, 0.25232001])"
      ]
     },
     "execution_count": 9,
     "metadata": {},
     "output_type": "execute_result"
    }
   ],
   "source": [
    "evals, evecs = np.linalg.eig(cov)\n",
    "\n",
    "evals"
   ]
  },
  {
   "cell_type": "markdown",
   "metadata": {},
   "source": [
    "The eigenvalues for each corresponding eigenvector can be thought of as a measure of the importance of that eigenvector in explaining the data. The first principle cimponent is the eigenvector of the covariance matrix which has the largest corresponding eigenvalue."
   ]
  },
  {
   "cell_type": "markdown",
   "metadata": {},
   "source": [
    "The last step is simply to perform the pojection of the original data onto the principle components.\n",
    "\n",
    "Projecting the original 13 dimensional set onto the first 2 principle components makes for easy visualisation of the original data.\n",
    "\n",
    "A projection of a dataset onto an arbitrary set of vectors can be computed by forming a matrix product: $P=XV$ Where $P$ is an $N \\times k$ matrix that is the result of the projection, $X$ is the $N \\times D$ original data set and $V$ is an $D \\times k$ matrix, where each column is a vector that the data will be projected onto."
   ]
  },
  {
   "cell_type": "code",
   "execution_count": 10,
   "metadata": {},
   "outputs": [
    {
     "data": {
      "text/plain": [
       "<matplotlib.collections.PathCollection at 0x18445790088>"
      ]
     },
     "execution_count": 10,
     "metadata": {},
     "output_type": "execute_result"
    },
    {
     "data": {
      "image/png": "[encoded data removed]",
      "text/plain": [
       "<Figure size 432x288 with 1 Axes>"
      ]
     },
     "metadata": {
      "needs_background": "light"
     },
     "output_type": "display_data"
    }
   ],
   "source": [
    "principle_components = evecs[np.argsort(evals)[::-1]]\n",
    "data_2d = normalised_data @ principle_components[:, :2]\n",
    "\n",
    "wine1_2d = data_2d[df['Wine'] == 1]\n",
    "wine2_2d = data_2d[df['Wine'] == 2]\n",
    "wine3_2d = data_2d[df['Wine'] == 3]\n",
    "\n",
    "plt.scatter(wine1_2d[:, 0], wine1_2d[:, 1])\n",
    "plt.scatter(wine2_2d[:, 0], wine2_2d[:, 1])\n",
    "plt.scatter(wine3_2d[:, 0], wine3_2d[:, 1])"
   ]
  },
  {
   "cell_type": "markdown",
   "metadata": {},
   "source": [
    "The original dataset comprised 3 different classes of wine. PCA successfully extracted patterns in the dataset relating to different classes of wine while reducing the size of the data by a factor of ~6\n",
    "\n",
    "If plotting instead the last 2 principle components"
   ]
  },
  {
   "cell_type": "code",
   "execution_count": 13,
   "metadata": {},
   "outputs": [
    {
     "data": {
      "text/plain": [
       "<matplotlib.collections.PathCollection at 0x184468cbc08>"
      ]
     },
     "execution_count": 13,
     "metadata": {},
     "output_type": "execute_result"
    },
    {
     "data": {
      "image/png": "[encoded data removed]",
      "text/plain": [
       "<Figure size 432x288 with 1 Axes>"
      ]
     },
     "metadata": {
      "needs_background": "light"
     },
     "output_type": "display_data"
    }
   ],
   "source": [
    "data_2d = normalised_data @ principle_components[:, -2:]\n",
    "\n",
    "wine1_2d = data_2d[df['Wine'] == 1]\n",
    "wine2_2d = data_2d[df['Wine'] == 2]\n",
    "wine3_2d = data_2d[df['Wine'] == 3]\n",
    "\n",
    "plt.scatter(wine1_2d[:, 0], wine1_2d[:, 1])\n",
    "plt.scatter(wine2_2d[:, 0], wine2_2d[:, 1])\n",
    "plt.scatter(wine3_2d[:, 0], wine3_2d[:, 1])"
   ]
  },
  {
   "cell_type": "markdown",
   "metadata": {},
   "source": [
    "The separation in the data is obviously not as clear. It was no coincidence that the principle components were chosen in such a way as to reveal patterns inherent in the data."
   ]
  },
  {
   "cell_type": "markdown",
   "metadata": {},
   "source": [
    "There are a number of other ways to perform PCA, but the simplest is to maximize the variance"
   ]
  },
  {
   "cell_type": "markdown",
   "metadata": {},
   "source": [
    "## The explained variance\n",
    "\n",
    ".........\n",
    "\n",
    "TODO"
   ]
  },
  {
   "cell_type": "code",
   "execution_count": null,
   "metadata": {},
   "outputs": [],
   "source": []
  }
 ],
 "metadata": {
  "kernelspec": {
   "display_name": "Python 3",
   "language": "python",
   "name": "python3"
  },
  "language_info": {
   "codemirror_mode": {
    "name": "ipython",
    "version": 3
   },
   "file_extension": ".py",
   "mimetype": "text/x-python",
   "name": "python",
   "nbconvert_exporter": "python",
   "pygments_lexer": "ipython3",
   "version": "3.7.9"
  }
 },
 "nbformat": 4,
 "nbformat_minor": 4
}

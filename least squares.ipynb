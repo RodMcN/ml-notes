{
 "cells": [
  {
   "cell_type": "markdown",
   "metadata": {},
   "source": [
    "# Least Squares"
   ]
  },
  {
   "cell_type": "markdown",
   "metadata": {},
   "source": [
    "Many real world relationships are linear (or nearly linear) in nature, such as the length of a piece of wire and its electrical resistance, how often one goes on long ditance runs and their marathon time or the number of ethnic minorities crammed into sweatshops and profits for western consumer goods companies...\n",
    "\n",
    "Least squares is a method of finding the mathematical formula which best describes one such linear relationship by determining the line of best fit for a set of data.\n",
    "\n",
    "\n",
    "It is popular a popular choice for mathematical modelling as it enables relatively simple deriviation of a mathematically tractable analytic solution, but has somewhat fallen out of favour as modern computation can comfortably tackle far more complex and flexible regression functions.\n",
    "\n",
    "Boradly, there are two forms of least squares regression. Ordinary least squares is used to fit models where there is a direct linear relationship between the the input variable and the target. The alternative formulation exists for use in non-linear regression and is not covered here."
   ]
  },
  {
   "cell_type": "markdown",
   "metadata": {},
   "source": [
    "The simplest linear model is of the form:\n",
    "$$y = mx + c$$\n",
    "where y and x are some observed variables and m and c are constants defining the replationship between x and y.\n",
    "\n",
    "In machine learning, these are typically referred to as weights symbolised as $w_i$. for example:\n",
    "$$ y = w_0x + w_1$$\n",
    "\n",
    "The goal of least squares regression is to find values of $w_0$ and $w_1$  for which $y = w_0x + w_1$ best represents the data you want to model."
   ]
  },
  {
   "cell_type": "markdown",
   "metadata": {},
   "source": [
    "In order to find a line of best fit for the data, it is useful to have a definition of what it means to be best and for that we define a loss function which we want to minimize.\n",
    "\n",
    "For a simple dataset consisting of $N$ observations of x and y variables $\\{(x_1,y_1)...(x_N,y_N)\\}$, the loss funtion takes the form:\n",
    "$$loss = \\frac{1}{N}\\sum^N_{n=1}(y_n-(w_0+w_1x_n))^2$$\n",
    "\n",
    "Which describes how for from the true observed values of $y$ are the estimates of $w_0+w_1x_n$\n",
    "\n",
    "For the model, we need to find\n",
    "\n",
    "$$\\underset{w_0,w_1}{argmin}\\frac{1}{N}\\sum^N_{n=1}(y_n-(w_0+w_1x_n))^2$$\n",
    "\n",
    "Or, the values for $w_0$ and $w_1$ such that the loss is minimised."
   ]
  },
  {
   "cell_type": "markdown",
   "metadata": {},
   "source": [
    "## Example: Life expectancy"
   ]
  },
  {
   "cell_type": "code",
   "execution_count": 1,
   "metadata": {},
   "outputs": [],
   "source": [
    "import numpy as np\n",
    "import matplotlib.pyplot as plt\n",
    "import seaborn as sns"
   ]
  },
  {
   "cell_type": "markdown",
   "metadata": {},
   "source": [
    "Life expectancy has increased dramatically over the past century. Not only is life expectancy an important measure of global health, but how long we live and has important implications for societies and cultures across the world.\n",
    "\n",
    "The figure below shows the average life expectancy across the world at birth form 1960 - 2017. The aim is to fit a model of the relationship between year and life expectancy.\n",
    "\n",
    "Such models are useful because they allow us to ask questions about unseen data, such as\n",
    "\n",
    "* When will the first person to live to 150 years old be born?\n",
    "* What was the life expectancy in 1899?\n",
    "\n",
    "Or provide a simple way to compare 2 models:\n",
    "* How does the rate of change worldwide compare to Sweden?"
   ]
  },
  {
   "cell_type": "code",
   "execution_count": 10,
   "metadata": {},
   "outputs": [],
   "source": [
    "data = np.loadtxt(r\"data\\life_expectancy.txt\")"
   ]
  },
  {
   "cell_type": "code",
   "execution_count": 18,
   "metadata": {},
   "outputs": [
    {
     "data": {
      "image/png": "[encoded data removed]",
      "text/plain": [
       "<Figure size 432x288 with 1 Axes>"
      ]
     },
     "metadata": {
      "needs_background": "light"
     },
     "output_type": "display_data"
    }
   ],
   "source": [
    "plt.scatter(data[:,0], data[:,1]+np.random.normal(0,0.1,57), 10)\n",
    "plt.xlabel(\"year\")\n",
    "plt.ylabel(\"life expectancy (years)\")\n",
    "plt.title(\"Average life expectancy worldwide, 1960-2017\")\n",
    "plt.show()"
   ]
  },
  {
   "cell_type": "markdown",
   "metadata": {},
   "source": [
    "* Clearly, the data does not follow a perfect straight line. As such there is no combination of $m$ and $c$ for which $y=mx+c$ for all of the points in the data. Least squares can also be thought of as an approximation of $y=mx+c$ where a solution does not exist.\n",
    "* The year is probably not the only factor governing life expectancy, it is most likely due to advances in medicine, hygeine, agriculture, etc. There is a statistical relationships between year and life expectancy, but not necessarilty a causal relationship."
   ]
  },
  {
   "cell_type": "markdown",
   "metadata": {},
   "source": [
    "The linear model that will be used to fit this data is defined as\n",
    "$$y=w_0x+w_1$$\n",
    "or\n",
    "$$\\text{life expectancy}=w_0\\times \\text{year}+w_1$$\n",
    "and the loss function that will be minimised:\n",
    "$$loss = \\frac{1}{N}\\sum^N_{n=1}(y_n-(w_0+w_1x_n))^2$$\n",
    "\n",
    "The loss function is simply the average squared difference between the life expectancy for a given year, $y_i$, and the predicted value for $y_i$ given the year, $x$ and the equauation $y=w_0x+w_1$. Squaring the errors ([technically, the residuals](https://en.wikipedia.org/wiki/Errors_and_residuals)) serves to prevent large positive and large negative errors cancelling each other out and ensures that the function has a minimum(otherwise, by continually increasing $w_0x+w_1$, the loss could be infinitely reduced). Squaring the error is mathematically more concventient than taking the absolute value and, unlike the absoluate value function, the squared error is continuously differentiable.\n",
    "\n",
    "\n",
    "Take for example a dummy dataset which follows the linear relationship $y=-0.7x+45+\\epsilon$ ......"
   ]
  },
  {
   "cell_type": "code",
   "execution_count": 58,
   "metadata": {},
   "outputs": [
    {
     "data": {
      "text/plain": [
       "<matplotlib.collections.LineCollection at 0x2be7a00b348>"
      ]
     },
     "execution_count": 58,
     "metadata": {},
     "output_type": "execute_result"
    },
    {
     "data": {
      "image/png": "[encoded data removed]",
      "text/plain": [
       "<Figure size 432x288 with 1 Axes>"
      ]
     },
     "metadata": {
      "needs_background": "light"
     },
     "output_type": "display_data"
    }
   ],
   "source": [
    "x = np.arange(10)\n",
    "line = -0.7 * x + 45\n",
    "y = -0.7 * x + 45 + np.random.normal(size=10)\n",
    "\n",
    "plt.scatter(x, y)\n",
    "plt.plot(x, line, 'g')\n",
    "plt.vlines(x, np.min([line, y], axis=0), np.max([line, y], axis=0), colors='r', linestyle=':')"
   ]
  },
  {
   "cell_type": "markdown",
   "metadata": {},
   "source": [
    "The least squares methodology can be extrapolated to an arbitrary number of dimensions, but the underlying concept remains the same.\n",
    "\n",
    "\n",
    "\n",
    "\n",
    "To begin to minimise the cost function, start by finding values for $w_0$ and $w_1$ at which the partial derivatvies of the loss function wrt $w_0$ and $w_1$ are 0.\n",
    "\n",
    "Start by multiplying out the brackets\n",
    "\n",
    "$$\\begin{align}\n",
    "loss &= \\frac{1}{N}\\sum^N_{n=1}(y_n-(w_0+w_1x_n))^2 \\\\\n",
    "&= \\frac{1}{N}\\sum^N_{n=1}(w_1^2x_n^2 + 2w_1x_n(w_0-y_n) + w_0^2-2w_0y_n + y_n^2) \\\\\n",
    "\\end{align}$$"
   ]
  },
  {
   "cell_type": "markdown",
   "metadata": {},
   "source": [
    "Starting with $w_1$, terms in that do not include $w_1$ can be ignored (as their partial derivative with respect to w1 will\n",
    "be zero). Removing these terms leaves"
   ]
  },
  {
   "cell_type": "markdown",
   "metadata": {},
   "source": [
    "$$\\frac{1}{N}\\sum^N_{n=1}(w_1^2x_n^2 + 2w_1x_nw_0 - 2w1x_ny_n)$$"
   ]
  },
  {
   "cell_type": "markdown",
   "metadata": {},
   "source": [
    "Taking terms that are not indexed by n outside of the sum and rearranging makes the exxpression slightly simpler\n",
    "\n",
    "$$ w_1^2\\frac{1}{N}\\Bigg(\\sum^N_{n=1}x_n^2\\Bigg) + 2w_1\\frac{1}{N} \\Bigg(\\sum^N_{n=1}x_n(w_0-yn)\\Bigg)$$"
   ]
  },
  {
   "cell_type": "markdown",
   "metadata": {},
   "source": [
    "Taking the partial derivative with respect to $w_1$ gives\n",
    "\n",
    "$$ \\frac{\\partial L}{\\partial w_1} = 2w_1^2\\frac{1}{N}\\Bigg(\\sum^N_{n=1}x_n^2\\Bigg) + \\frac{2}{N} \\Bigg(\\sum^N_{n=1}x_n(w_0-yn)\\Bigg)$$\n",
    "\n",
    "and the same for $w_0$\n",
    "\n",
    "$$ \\frac{\\partial L}{\\partial w_0} = 2w_0 + 2w_1 \\frac{1}{N} \\Bigg(\\sum^N_{n=1}x_n\\Bigg) - \\frac{2}{N}\\Bigg(\\sum^N_{n=1}t_n\\Bigg)$$"
   ]
  },
  {
   "cell_type": "markdown",
   "metadata": {},
   "source": [
    "To find the values of $w_0$ and $w_1$ for the model, need to find the values where $\\frac{\\partial L}{\\partial w_0} = \\frac{\\partial L}{\\partial w_1} = 0$"
   ]
  },
  {
   "cell_type": "code",
   "execution_count": 53,
   "metadata": {},
   "outputs": [],
   "source": [
    "from sklearn.datasets import load_breast_cancer"
   ]
  },
  {
   "cell_type": "code",
   "execution_count": 54,
   "metadata": {},
   "outputs": [],
   "source": [
    "data = load_breast_cancer()"
   ]
  },
  {
   "cell_type": "code",
   "execution_count": 55,
   "metadata": {},
   "outputs": [
    {
     "data": {
      "text/plain": [
       "array(['mean radius', 'mean texture', 'mean perimeter', 'mean area',\n",
       "       'mean smoothness', 'mean compactness', 'mean concavity',\n",
       "       'mean concave points', 'mean symmetry', 'mean fractal dimension',\n",
       "       'radius error', 'texture error', 'perimeter error', 'area error',\n",
       "       'smoothness error', 'compactness error', 'concavity error',\n",
       "       'concave points error', 'symmetry error',\n",
       "       'fractal dimension error', 'worst radius', 'worst texture',\n",
       "       'worst perimeter', 'worst area', 'worst smoothness',\n",
       "       'worst compactness', 'worst concavity', 'worst concave points',\n",
       "       'worst symmetry', 'worst fractal dimension'], dtype='<U23')"
      ]
     },
     "execution_count": 55,
     "metadata": {},
     "output_type": "execute_result"
    }
   ],
   "source": [
    "data.feature_names"
   ]
  },
  {
   "cell_type": "code",
   "execution_count": 57,
   "metadata": {},
   "outputs": [
    {
     "data": {
      "text/plain": [
       "array(['malignant', 'benign'], dtype='<U9')"
      ]
     },
     "execution_count": 57,
     "metadata": {},
     "output_type": "execute_result"
    }
   ],
   "source": [
    "data.target_names"
   ]
  },
  {
   "cell_type": "markdown",
   "metadata": {},
   "source": [
    "## Gradient descent"
   ]
  },
  {
   "cell_type": "markdown",
   "metadata": {},
   "source": [
    "\" The \"least squares\" method is a form of mathematical regression analysis used to determine the line of best fit for a set of data, providing a visual demonstration of the relationship between the data points. Each point of data represents the relationship between a known independent variable and an unknown dependent variable. \"\n",
    "\n",
    "\n",
    "\n",
    "\n",
    "Using xn; tn to denote the nth Olympic year\n",
    "and winning time, respectively, the squared difference is defined as\n",
    "(tn − f(xn; w0; w1))2:\n",
    "The smaller this number is, the closer the model, at xn, is to tn. Squaring the\n",
    "difference is important. Without it, we could indefinitely reduce this quantity by\n",
    "continually increasing f(xn; w0; w1)\n",
    "\n",
    "\n",
    "This expression is known as the squared loss function, as it describes how much\n",
    "accuracy we are losing through the use of f(xn; w0; w1) to model tn.\n",
    "\n",
    "\n",
    "The squared loss is a very common choice, in part due to the fact that it makes finding\n",
    "the best values of w0 and w1 relatively straightforward { we can derive an analytical solution. However, modern computational power has reduced the importance of\n",
    "mathematical convenience { there is no longer any excuse for choosing a convenient\n",
    "loss function over one more suited to the data. \n",
    "\n",
    "\n",
    "\n",
    "\n",
    "Often in the real world one expects to find linear relationships between variables. For example,the force of a spring linearly depends on the displacement of the spring:y=kx(hereyisthe force,xis the displacement of the spring from rest, andkis the spring constant).  To testthe proposed relationship, researchers go to the lab and measure what the force is for variousdisplacements.  Thus they assemble data of the form(xn, yn)forn∈ {1, . . . , N}; hereynisthe observed force in Newtons when the spring is displacedxnmeters.\n",
    "\n",
    "\n",
    "\n",
    "\n"
   ]
  },
  {
   "cell_type": "markdown",
   "metadata": {},
   "source": [
    "blah blah blah fitting a line, alternatively when solving an equation ax=b but has no solution, want to approximate a instead"
   ]
  },
  {
   "cell_type": "markdown",
   "metadata": {},
   "source": []
  },
  {
   "cell_type": "markdown",
   "metadata": {},
   "source": [
    "fits a line to a dataset, assumes a linear relationship (variations for non linear\n",
    "\n"
   ]
  },
  {
   "cell_type": "markdown",
   "metadata": {},
   "source": [
    "simplest example is case of single explanatory variable"
   ]
  },
  {
   "cell_type": "markdown",
   "metadata": {},
   "source": [
    "this can me modelled with the simple linear equation y=mx+c, using least squares we want to find values for m and c which best suit the data "
   ]
  },
  {
   "cell_type": "markdown",
   "metadata": {},
   "source": [
    "in machine learning y=mx+c == y=w0x+w1"
   ]
  },
  {
   "cell_type": "markdown",
   "metadata": {},
   "source": [
    "$loss = \\frac{1}{N}\\sum^N_{n=1}(t_n-(w_0+w_1x_n))^2$"
   ]
  },
  {
   "cell_type": "markdown",
   "metadata": {},
   "source": [
    "to find where the loss is minimised, look for where $\\frac{\\partial Loss}{\\partial w_0}=0$ and $\\frac{\\partial Loss}{\\partial w_1}=0$"
   ]
  }
 ],
 "metadata": {
  "kernelspec": {
   "display_name": "Python 3",
   "language": "python",
   "name": "python3"
  },
  "language_info": {
   "codemirror_mode": {
    "name": "ipython",
    "version": 3
   },
   "file_extension": ".py",
   "mimetype": "text/x-python",
   "name": "python",
   "nbconvert_exporter": "python",
   "pygments_lexer": "ipython3",
   "version": "3.7.9"
  }
 },
 "nbformat": 4,
 "nbformat_minor": 4
}
